{
 "cells": [
  {
   "cell_type": "markdown",
   "id": "42aff72f-d386-4a11-83c8-dcec99f9ac4d",
   "metadata": {},
   "source": [
    "# ✅ Day 8: Numpy Basics"
   ]
  },
  {
   "cell_type": "markdown",
   "id": "8add8ed5-eedb-4010-b951-b51adcb77d0a",
   "metadata": {},
   "source": [
    "## 📌 What is Numpy?\n",
    "Numpy is a powerful library for numerical computations. It provides support for arrays, matrices, and high-level mathematical functions."
   ]
  },
  {
   "cell_type": "code",
   "execution_count": 1,
   "id": "64f5820b-300e-4e7e-9196-6bbe88b8897f",
   "metadata": {},
   "outputs": [],
   "source": [
    "import numpy as np\n"
   ]
  },
  {
   "cell_type": "markdown",
   "id": "bb2a1587-5ec8-4afa-ab9a-d9abda465bb2",
   "metadata": {},
   "source": [
    "# ✅ Creating Numpy Arrays"
   ]
  },
  {
   "cell_type": "code",
   "execution_count": 2,
   "id": "226095b0-0513-4ff6-9067-bd65e8225049",
   "metadata": {},
   "outputs": [
    {
     "name": "stdout",
     "output_type": "stream",
     "text": [
      "1D Array: [1 2 3 4 5]\n",
      "2D Array:\n",
      " [[1 2 3]\n",
      " [4 5 6]]\n"
     ]
    }
   ],
   "source": [
    "arr1 = np.array([1, 2, 3, 4, 5])\n",
    "print(\"1D Array:\", arr1)\n",
    "\n",
    "arr2 = np.array([[1,2,3], [4,5,6]])\n",
    "print(\"2D Array:\\n\", arr2)\n"
   ]
  },
  {
   "cell_type": "code",
   "execution_count": null,
   "id": "24629ef3-3b05-4a35-8844-c1975ad3fa2d",
   "metadata": {},
   "outputs": [],
   "source": []
  },
  {
   "cell_type": "markdown",
   "id": "e7470d19-11a3-4fef-9fda-88dc768c613b",
   "metadata": {},
   "source": [
    "# ✅ Array Operations"
   ]
  },
  {
   "cell_type": "code",
   "execution_count": 3,
   "id": "2b4cc53f-fc5d-4cab-8291-2fa8afe95ec9",
   "metadata": {},
   "outputs": [
    {
     "name": "stdout",
     "output_type": "stream",
     "text": [
      "Addition: [15 25 35 45]\n",
      "Multiplication: [20 40 60 80]\n",
      "Square Root: [3.16227766 4.47213595 5.47722558 6.32455532]\n"
     ]
    }
   ],
   "source": [
    "arr = np.array([10, 20, 30, 40])\n",
    "\n",
    "print(\"Addition:\", arr + 5)\n",
    "print(\"Multiplication:\", arr * 2)\n",
    "print(\"Square Root:\", np.sqrt(arr))\n"
   ]
  },
  {
   "cell_type": "code",
   "execution_count": null,
   "id": "d23f6930-b697-4214-8a85-cb2087d57c03",
   "metadata": {},
   "outputs": [],
   "source": []
  },
  {
   "cell_type": "markdown",
   "id": "021e7a77-c661-43cb-8914-187cc92eab9a",
   "metadata": {},
   "source": [
    "# ✅ Reshape Array"
   ]
  },
  {
   "cell_type": "code",
   "execution_count": 4,
   "id": "592a60b7-c933-468b-81bf-058084647fe3",
   "metadata": {},
   "outputs": [
    {
     "name": "stdout",
     "output_type": "stream",
     "text": [
      "Reshaped Array:\n",
      " [[ 1  2  3  4]\n",
      " [ 5  6  7  8]\n",
      " [ 9 10 11 12]]\n"
     ]
    }
   ],
   "source": [
    "arr = np.arange(1, 13)\n",
    "reshaped = arr.reshape(3, 4)\n",
    "print(\"Reshaped Array:\\n\", reshaped)\n"
   ]
  },
  {
   "cell_type": "markdown",
   "id": "cb76d54c-1c7e-4d71-8b6e-572656cdd70a",
   "metadata": {},
   "source": [
    "# ✅ Indexing & Slicing\n",
    "\n"
   ]
  },
  {
   "cell_type": "code",
   "execution_count": 5,
   "id": "767909cd-4500-4557-b064-7b1e78878494",
   "metadata": {},
   "outputs": [
    {
     "name": "stdout",
     "output_type": "stream",
     "text": [
      "Element at index 2: 30\n",
      "Slicing from index 1 to 3: [20 30 40]\n"
     ]
    }
   ],
   "source": [
    "arr = np.array([10, 20, 30, 40, 50])\n",
    "print(\"Element at index 2:\", arr[2])\n",
    "print(\"Slicing from index 1 to 3:\", arr[1:4])\n"
   ]
  },
  {
   "cell_type": "markdown",
   "id": "d767f772-2127-4eac-b6de-1f9770f46be2",
   "metadata": {},
   "source": [
    "# ✅ Random Numbers\n",
    "\n"
   ]
  },
  {
   "cell_type": "code",
   "execution_count": 7,
   "id": "f0339482-f970-4676-9b5e-cd7adecbd4b5",
   "metadata": {},
   "outputs": [
    {
     "name": "stdout",
     "output_type": "stream",
     "text": [
      "Random Integers: [45 28 57 14 18]\n"
     ]
    }
   ],
   "source": [
    "rand_nums = np.random.randint(1, 100, 5)\n",
    "print(\"Random Integers:\", rand_nums)"
   ]
  },
  {
   "cell_type": "code",
   "execution_count": null,
   "id": "c0e48616-413a-4a8f-b8d8-f26c73f73fd7",
   "metadata": {},
   "outputs": [],
   "source": []
  },
  {
   "cell_type": "markdown",
   "id": "c3accb92-87bd-4df6-b6d8-29a122398bbe",
   "metadata": {},
   "source": [
    "# 🎯 Mini Task\n",
    "Create a 1D array of numbers 1 to 15\n",
    "\n",
    "Reshape it into 3x5\n",
    "\n",
    "Multiply all elements by 10\n",
    "\n",
    "\n"
   ]
  },
  {
   "cell_type": "code",
   "execution_count": 8,
   "id": "2a4d74e7-a740-4c06-bd37-76f192ad8d6b",
   "metadata": {},
   "outputs": [
    {
     "name": "stdout",
     "output_type": "stream",
     "text": [
      "1D Array (1 to 15): [ 1  2  3  4  5  6  7  8  9 10 11 12 13 14 15]\n",
      "_________________\n",
      "Reshaped to 3x5:\n",
      " [[ 1  2  3  4  5]\n",
      " [ 6  7  8  9 10]\n",
      " [11 12 13 14 15]]\n",
      "_________________\n",
      "Multiplied by 10:\n",
      " [[ 10  20  30  40  50]\n",
      " [ 60  70  80  90 100]\n",
      " [110 120 130 140 150]]\n"
     ]
    }
   ],
   "source": [
    "# 1. Create 1D Array of Numbers 1 to 15\n",
    "import numpy as np\n",
    "\n",
    "arr = np.arange(1, 16)\n",
    "print(\"1D Array (1 to 15):\", arr)\n",
    "\n",
    "print(\"_________________\")\n",
    "\n",
    "# 2. Reshape it into 3x5\n",
    "reshaped_arr = arr.reshape(3, 5)\n",
    "print(\"Reshaped to 3x5:\\n\", reshaped_arr)\n",
    "\n",
    "print(\"_________________\")\n",
    "\n",
    "#  3. Multiply All Elements by 10\n",
    "multiplied_arr = reshaped_arr * 10\n",
    "print(\"Multiplied by 10:\\n\", multiplied_arr)\n"
   ]
  },
  {
   "cell_type": "code",
   "execution_count": null,
   "id": "2e5a43b5-8e57-4c72-a98a-2905c2be38b8",
   "metadata": {},
   "outputs": [],
   "source": []
  }
 ],
 "metadata": {
  "kernelspec": {
   "display_name": "Python 3 (ipykernel)",
   "language": "python",
   "name": "python3"
  },
  "language_info": {
   "codemirror_mode": {
    "name": "ipython",
    "version": 3
   },
   "file_extension": ".py",
   "mimetype": "text/x-python",
   "name": "python",
   "nbconvert_exporter": "python",
   "pygments_lexer": "ipython3",
   "version": "3.12.7"
  }
 },
 "nbformat": 4,
 "nbformat_minor": 5
}
