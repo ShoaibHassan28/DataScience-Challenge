{
 "cells": [
  {
   "cell_type": "markdown",
   "id": "7b06f855-8cf4-4146-851c-2845365dfc3d",
   "metadata": {},
   "source": [
    "# ✅ Day 9: Pandas Advanced – Grouping, Aggregation, Merging"
   ]
  },
  {
   "cell_type": "code",
   "execution_count": 1,
   "id": "de201d34-b7df-4a3f-ab8a-f8a30bae600d",
   "metadata": {},
   "outputs": [],
   "source": [
    "import pandas as pd\n"
   ]
  },
  {
   "cell_type": "markdown",
   "id": "b9bcb1e6-91a1-4339-b91f-bc914885a9b0",
   "metadata": {},
   "source": [
    "# Sample DataFrame"
   ]
  },
  {
   "cell_type": "code",
   "execution_count": 2,
   "id": "450d2139-a160-48c2-9bc4-53bac71f2c02",
   "metadata": {},
   "outputs": [
    {
     "name": "stdout",
     "output_type": "stream",
     "text": [
      "  Department Employee  Salary\n",
      "0      Sales    Alice   50000\n",
      "1      Sales      Bob   60000\n",
      "2         HR  Charlie   45000\n",
      "3         HR    David   47000\n",
      "4         IT      Eve   70000\n",
      "5         IT    Frank   75000\n"
     ]
    }
   ],
   "source": [
    "data = {\n",
    "    'Department': ['Sales', 'Sales', 'HR', 'HR', 'IT', 'IT'],\n",
    "    'Employee': ['Alice', 'Bob', 'Charlie', 'David', 'Eve', 'Frank'],\n",
    "    'Salary': [50000, 60000, 45000, 47000, 70000, 75000]\n",
    "}\n",
    "\n",
    "df = pd.DataFrame(data)\n",
    "print(df)\n"
   ]
  },
  {
   "cell_type": "code",
   "execution_count": null,
   "id": "db159765-5613-4f5d-bdcf-8bc3ef5bba1f",
   "metadata": {},
   "outputs": [],
   "source": []
  },
  {
   "cell_type": "markdown",
   "id": "0c7f7aa8-e05d-4f99-92e2-da7db3717930",
   "metadata": {},
   "source": [
    "#  GroupBy Example"
   ]
  },
  {
   "cell_type": "code",
   "execution_count": 3,
   "id": "abf52e59-d6ab-4c7c-94dc-f2d1046d46d7",
   "metadata": {},
   "outputs": [
    {
     "name": "stdout",
     "output_type": "stream",
     "text": [
      "Average Salary by Department:\n",
      " Department\n",
      "HR       46000.0\n",
      "IT       72500.0\n",
      "Sales    55000.0\n",
      "Name: Salary, dtype: float64\n"
     ]
    }
   ],
   "source": [
    "grouped = df.groupby('Department')['Salary'].mean()\n",
    "print(\"Average Salary by Department:\\n\", grouped)\n"
   ]
  },
  {
   "cell_type": "markdown",
   "id": "5c5445d9-fd10-4430-90d1-478bbdbaf0db",
   "metadata": {},
   "source": [
    "# Aggregation Example"
   ]
  },
  {
   "cell_type": "code",
   "execution_count": 4,
   "id": "2cc7ab10-0a3b-40e7-bf53-a9aa8dc1ad35",
   "metadata": {},
   "outputs": [
    {
     "name": "stdout",
     "output_type": "stream",
     "text": [
      "Aggregated Salary Stats:\n",
      "              Salary              \n",
      "               mean    max    min\n",
      "Department                       \n",
      "HR          46000.0  47000  45000\n",
      "IT          72500.0  75000  70000\n",
      "Sales       55000.0  60000  50000\n"
     ]
    }
   ],
   "source": [
    "agg_result = df.groupby('Department').agg({\n",
    "    'Salary': ['mean', 'max', 'min']\n",
    "})\n",
    "print(\"Aggregated Salary Stats:\\n\", agg_result)\n"
   ]
  },
  {
   "cell_type": "markdown",
   "id": "0f3a0142-a9ae-4794-8dfe-4b7fe72605e5",
   "metadata": {},
   "source": [
    "#  Merging Two DataFrames"
   ]
  },
  {
   "cell_type": "code",
   "execution_count": 5,
   "id": "5a316270-de35-4af7-92d3-e92cb4778292",
   "metadata": {},
   "outputs": [
    {
     "name": "stdout",
     "output_type": "stream",
     "text": [
      "Merged DataFrame:\n",
      "   Department Employee  Salary       Location\n",
      "0      Sales    Alice   50000       New York\n",
      "1      Sales      Bob   60000       New York\n",
      "2         HR  Charlie   45000        Chicago\n",
      "3         HR    David   47000        Chicago\n",
      "4         IT      Eve   70000  San Francisco\n",
      "5         IT    Frank   75000  San Francisco\n"
     ]
    }
   ],
   "source": [
    "dept_info = pd.DataFrame({\n",
    "    'Department': ['Sales', 'HR', 'IT'],\n",
    "    'Location': ['New York', 'Chicago', 'San Francisco']\n",
    "})\n",
    "\n",
    "merged_df = pd.merge(df, dept_info, on='Department')\n",
    "print(\"Merged DataFrame:\\n\", merged_df)\n"
   ]
  },
  {
   "cell_type": "code",
   "execution_count": null,
   "id": "d2f44947-8ffd-4898-b8c2-108faca03340",
   "metadata": {},
   "outputs": [],
   "source": []
  },
  {
   "cell_type": "markdown",
   "id": "34494acb-986f-4376-a1c8-e1e90aef1b11",
   "metadata": {},
   "source": [
    "# 🎯 Mini Task\n",
    "Create a DataFrame with employees, department, and sales.\n",
    "\n",
    "Group by department and find total sales.\n",
    "\n",
    "Create a second DataFrame with department and region.\n",
    "\n",
    "Merge both on department."
   ]
  },
  {
   "cell_type": "code",
   "execution_count": 6,
   "id": "c5c4424e-3563-4390-ae6f-1990711114ca",
   "metadata": {},
   "outputs": [
    {
     "name": "stdout",
     "output_type": "stream",
     "text": [
      "DataFrame 1:\n",
      "   Employee Department  Sales\n",
      "0    Alice      Sales    200\n",
      "1      Bob      Sales    250\n",
      "2  Charlie         HR    150\n",
      "3    David         HR    180\n",
      "4      Eve         IT    300\n",
      "5    Frank         IT    320\n",
      "______________________________\n",
      "Total Sales by Department:\n",
      " Department\n",
      "HR       330\n",
      "IT       620\n",
      "Sales    450\n",
      "Name: Sales, dtype: int64\n",
      "______________________________\n",
      "DataFrame 2:\n",
      "   Department Region\n",
      "0      Sales   East\n",
      "1         HR   West\n",
      "2         IT  North\n",
      "______________________________\n",
      "Merged DataFrame:\n",
      "   Employee Department  Sales Region\n",
      "0    Alice      Sales    200   East\n",
      "1      Bob      Sales    250   East\n",
      "2  Charlie         HR    150   West\n",
      "3    David         HR    180   West\n",
      "4      Eve         IT    300  North\n",
      "5    Frank         IT    320  North\n"
     ]
    }
   ],
   "source": [
    "import pandas as pd\n",
    "\n",
    "# Create DataFrame with employees, department, and sales\n",
    "df1 = pd.DataFrame({\n",
    "    'Employee': ['Alice', 'Bob', 'Charlie', 'David', 'Eve', 'Frank'],\n",
    "    'Department': ['Sales', 'Sales', 'HR', 'HR', 'IT', 'IT'],\n",
    "    'Sales': [200, 250, 150, 180, 300, 320]\n",
    "})\n",
    "print(\"DataFrame 1:\\n\", df1)\n",
    "\n",
    "print(\"______________________________\")\n",
    "\n",
    "# Group by department and find total sales\n",
    "total_sales = df1.groupby('Department')['Sales'].sum()\n",
    "print(\"Total Sales by Department:\\n\", total_sales)\n",
    "\n",
    "print(\"______________________________\")\n",
    "\n",
    "# Create second DataFrame with department and region\n",
    "df2 = pd.DataFrame({\n",
    "    'Department': ['Sales', 'HR', 'IT'],\n",
    "    'Region': ['East', 'West', 'North']\n",
    "})\n",
    "print(\"DataFrame 2:\\n\", df2)\n",
    "\n",
    "print(\"______________________________\")\n",
    "\n",
    "# Merge both on department\n",
    "merged = pd.merge(df1, df2, on='Department')\n",
    "print(\"Merged DataFrame:\\n\", merged)\n"
   ]
  },
  {
   "cell_type": "code",
   "execution_count": null,
   "id": "73848c63-8d3e-4ccb-922c-c6ae4da62a09",
   "metadata": {},
   "outputs": [],
   "source": []
  }
 ],
 "metadata": {
  "kernelspec": {
   "display_name": "Python 3 (ipykernel)",
   "language": "python",
   "name": "python3"
  },
  "language_info": {
   "codemirror_mode": {
    "name": "ipython",
    "version": 3
   },
   "file_extension": ".py",
   "mimetype": "text/x-python",
   "name": "python",
   "nbconvert_exporter": "python",
   "pygments_lexer": "ipython3",
   "version": "3.12.7"
  }
 },
 "nbformat": 4,
 "nbformat_minor": 5
}
