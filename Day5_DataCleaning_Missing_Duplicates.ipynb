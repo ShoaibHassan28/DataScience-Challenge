{
 "cells": [
  {
   "cell_type": "markdown",
   "id": "5af8c016-ddc2-46fb-8353-561433d9f92d",
   "metadata": {},
   "source": [
    "# ✅ Day 5 Goals\n",
    "\n",
    "1️⃣ Missing Values\tDetect & handle NaN values\n",
    "\n",
    "2️⃣ Duplicates\tDetect & remove duplicate rows\n",
    "\n",
    "3️⃣ Fill / Drop Methods\tdropna(), fillna(), isnull()\n",
    "\n",
    "4️⃣ Practical Data Cleaning\tApply on a real or mock DataFrame"
   ]
  },
  {
   "cell_type": "code",
   "execution_count": null,
   "id": "84143940-1597-4d2b-893e-730ea565e21e",
   "metadata": {},
   "outputs": [],
   "source": []
  },
  {
   "cell_type": "markdown",
   "id": "0c29a8b7-2689-4baa-814f-96ce952b4cd5",
   "metadata": {},
   "source": [
    "# 🔹 1. Detect Missing Values\n",
    "\n",
    "       NaN = Not a Number = missing data\n",
    "\n",
    "       Use isnull() to detect"
   ]
  },
  {
   "cell_type": "code",
   "execution_count": 1,
   "id": "a8288c5a-7d61-40ca-963f-ec15d252b813",
   "metadata": {},
   "outputs": [
    {
     "name": "stdout",
     "output_type": "stream",
     "text": [
      "    Name   Age       City\n",
      "0    Ali  25.0     Lahore\n",
      "1   Sara   NaN    Karachi\n",
      "2  Ahmed  28.0        NaN\n",
      "3   Sana  24.0  Islamabad\n",
      "    Name    Age   City\n",
      "0  False  False  False\n",
      "1  False   True  False\n",
      "2  False  False   True\n",
      "3  False  False  False\n",
      "Name    0\n",
      "Age     1\n",
      "City    1\n",
      "dtype: int64\n"
     ]
    }
   ],
   "source": [
    "import pandas as pd\n",
    "import numpy as np\n",
    "\n",
    "# Sample data with missing values\n",
    "data = {\n",
    "    'Name': ['Ali', 'Sara', 'Ahmed', 'Sana'],\n",
    "    'Age': [25, np.nan, 28, 24],\n",
    "    'City': ['Lahore', 'Karachi', np.nan, 'Islamabad']\n",
    "}\n",
    "\n",
    "df = pd.DataFrame(data)\n",
    "print(df)\n",
    "\n",
    "# Detect missing values\n",
    "print(df.isnull())       # True where missing\n",
    "print(df.isnull().sum()) # Count of missing in each column\n"
   ]
  },
  {
   "cell_type": "code",
   "execution_count": null,
   "id": "a2f7b48e-e430-4f5b-80a4-1eafa9a3b36f",
   "metadata": {},
   "outputs": [],
   "source": []
  },
  {
   "cell_type": "markdown",
   "id": "81f5f842-c3a1-4d99-b08e-6c74addc1368",
   "metadata": {},
   "source": [
    "# 🔹 2. Remove Missing Data\n"
   ]
  },
  {
   "cell_type": "code",
   "execution_count": 2,
   "id": "a0c97664-9a12-48c1-a4f1-04af9a866fd7",
   "metadata": {},
   "outputs": [
    {
     "name": "stdout",
     "output_type": "stream",
     "text": [
      "   Name   Age       City\n",
      "0   Ali  25.0     Lahore\n",
      "3  Sana  24.0  Islamabad\n"
     ]
    }
   ],
   "source": [
    "# Drop rows with any missing value\n",
    "df_dropped = df.dropna()\n",
    "print(df_dropped)\n"
   ]
  },
  {
   "cell_type": "code",
   "execution_count": null,
   "id": "f0a04aaf-d36f-488c-b4a5-dad0d7e53945",
   "metadata": {},
   "outputs": [],
   "source": []
  },
  {
   "cell_type": "markdown",
   "id": "ec03cf9c-387a-452f-b337-04dba9e61d06",
   "metadata": {},
   "source": [
    "# 🔹 3. Fill Missing Values\n",
    "\n",
    "  fillna() is used to handle missing values smartly\n",
    "\n",
    "  Useful in data preparation"
   ]
  },
  {
   "cell_type": "code",
   "execution_count": 3,
   "id": "ff798131-ac9d-44ac-a74c-d96afb473cd0",
   "metadata": {},
   "outputs": [
    {
     "name": "stdout",
     "output_type": "stream",
     "text": [
      "    Name      Age       City\n",
      "0    Ali     25.0     Lahore\n",
      "1   Sara  Unknown    Karachi\n",
      "2  Ahmed     28.0    Unknown\n",
      "3   Sana     24.0  Islamabad\n",
      "    Name        Age       City\n",
      "0    Ali  25.000000     Lahore\n",
      "1   Sara  25.666667    Karachi\n",
      "2  Ahmed  28.000000        NaN\n",
      "3   Sana  24.000000  Islamabad\n"
     ]
    }
   ],
   "source": [
    "# Fill with a fixed value\n",
    "df_filled = df.fillna('Unknown')\n",
    "print(df_filled)\n",
    "\n",
    "# Fill numeric column with mean\n",
    "df['Age'] = df['Age'].fillna(df['Age'].mean())\n",
    "print(df)\n"
   ]
  },
  {
   "cell_type": "code",
   "execution_count": null,
   "id": "99e063d8-6384-43cb-b860-3c7c824303c2",
   "metadata": {},
   "outputs": [],
   "source": []
  },
  {
   "cell_type": "markdown",
   "id": "3e11fae5-8cde-493f-9489-6818d0fc671d",
   "metadata": {},
   "source": [
    "# 🔹 4. Handling Duplicates\n",
    "\n"
   ]
  },
  {
   "cell_type": "code",
   "execution_count": 4,
   "id": "25fce0ba-a9fd-483c-a634-c221bd65a3ac",
   "metadata": {},
   "outputs": [
    {
     "name": "stdout",
     "output_type": "stream",
     "text": [
      "0    False\n",
      "1    False\n",
      "2    False\n",
      "3    False\n",
      "4     True\n",
      "dtype: bool\n",
      "    Name        Age       City\n",
      "0    Ali  25.000000     Lahore\n",
      "1   Sara  25.666667    Karachi\n",
      "2  Ahmed  28.000000        NaN\n",
      "3   Sana  24.000000  Islamabad\n"
     ]
    }
   ],
   "source": [
    "# Add duplicate row\n",
    "df.loc[4] = ['Ali', 25, 'Lahore']\n",
    "\n",
    "# Check for duplicates\n",
    "print(df.duplicated())\n",
    "\n",
    "# Remove duplicates\n",
    "df_unique = df.drop_duplicates()\n",
    "print(df_unique)\n"
   ]
  },
  {
   "cell_type": "code",
   "execution_count": null,
   "id": "7f1b0387-032a-45d2-8b2d-e29a9b4344c7",
   "metadata": {},
   "outputs": [],
   "source": []
  },
  {
   "cell_type": "markdown",
   "id": "30feef82-f1e2-44df-8304-e481d7dec398",
   "metadata": {},
   "source": [
    "# 🎯 Mini Task"
   ]
  },
  {
   "cell_type": "code",
   "execution_count": 5,
   "id": "a87c356e-9970-43b9-9d39-e282d8d38afa",
   "metadata": {},
   "outputs": [
    {
     "name": "stdout",
     "output_type": "stream",
     "text": [
      "  Product      Price  Stock\n",
      "0       A  10.000000    0.0\n",
      "1       B  11.666667   20.0\n",
      "2       C  15.000000   30.0\n"
     ]
    }
   ],
   "source": [
    "# Create a DataFrame with missing & duplicate values\n",
    "df_task = pd.DataFrame({\n",
    "    'Product': ['A', 'B', 'C', 'A'],\n",
    "    'Price': [10, np.nan, 15, 10],\n",
    "    'Stock': [np.nan, 20, 30, np.nan]\n",
    "})\n",
    "\n",
    "# Fill missing values\n",
    "df_task['Price'] = df_task['Price'].fillna(df_task['Price'].mean())\n",
    "df_task['Stock'] = df_task['Stock'].fillna(0)\n",
    "\n",
    "# Remove duplicates\n",
    "df_task = df_task.drop_duplicates()\n",
    "\n",
    "print(df_task)\n"
   ]
  },
  {
   "cell_type": "code",
   "execution_count": null,
   "id": "16a71426-f66e-4c7d-ad33-3438478d1752",
   "metadata": {},
   "outputs": [],
   "source": []
  }
 ],
 "metadata": {
  "kernelspec": {
   "display_name": "Python 3 (ipykernel)",
   "language": "python",
   "name": "python3"
  },
  "language_info": {
   "codemirror_mode": {
    "name": "ipython",
    "version": 3
   },
   "file_extension": ".py",
   "mimetype": "text/x-python",
   "name": "python",
   "nbconvert_exporter": "python",
   "pygments_lexer": "ipython3",
   "version": "3.12.7"
  }
 },
 "nbformat": 4,
 "nbformat_minor": 5
}
