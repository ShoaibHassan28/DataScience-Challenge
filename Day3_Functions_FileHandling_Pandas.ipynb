{
 "cells": [
  {
   "cell_type": "markdown",
   "id": "8d656e8a-abc3-41f0-be11-adda18359899",
   "metadata": {},
   "source": [
    "# 🧪 Part 1: Functions\n",
    "## ✅ What is a Function? (Markdown)\n",
    "      > Reusable block of code\n",
    "\n",
    "      > Starts with def, can take parameters\n",
    "\n",
    "      > Use return to send back result"
   ]
  },
  {
   "cell_type": "code",
   "execution_count": 1,
   "id": "ce88d7e6-ff68-40a3-8600-b35184a2fd1f",
   "metadata": {},
   "outputs": [
    {
     "name": "stdout",
     "output_type": "stream",
     "text": [
      "Hello, Shoaib! Welcome to Day 3.\n"
     ]
    }
   ],
   "source": [
    "# Function to greet a user\n",
    "def greet(name):\n",
    "    return f\"Hello, {name}! Welcome to Day 3.\"\n",
    "\n",
    "print(greet(\"Shoaib\"))\n"
   ]
  },
  {
   "cell_type": "code",
   "execution_count": null,
   "id": "a039ea1d-7cc3-45e6-939b-93e0a78597af",
   "metadata": {},
   "outputs": [],
   "source": []
  },
  {
   "cell_type": "markdown",
   "id": "81a1c576-4edb-4bca-a070-a1eefc86c05e",
   "metadata": {},
   "source": [
    "# 🔹 2. File Handling\n",
    "\n",
    " open() to open a file\n",
    "\n",
    " Modes: \"r\", \"w\", \"a\"\n",
    "\n",
    " Use with open(...) for auto close\n",
    "\n",
    " python\n",
    " Copy\n",
    " Edit\n"
   ]
  },
  {
   "cell_type": "code",
   "execution_count": 1,
   "id": "9d1ff669-a039-485e-ae52-bba1805b85e1",
   "metadata": {},
   "outputs": [
    {
     "name": "stdout",
     "output_type": "stream",
     "text": [
      "This is Day 3 log entry.\n"
     ]
    }
   ],
   "source": [
    "# Write to file\n",
    "with open(\"log.txt\", \"w\") as f:\n",
    "    f.write(\"This is Day 3 log entry.\")\n",
    "\n",
    "# Read file\n",
    "with open(\"log.txt\", \"r\") as f:\n",
    "    content = f.read()\n",
    "    print(content)\n"
   ]
  },
  {
   "cell_type": "code",
   "execution_count": null,
   "id": "cab95194-3b5d-4409-81e1-f3d42270b82f",
   "metadata": {},
   "outputs": [],
   "source": []
  },
  {
   "cell_type": "markdown",
   "id": "1e1c4944-4395-4272-b0de-376f91afbf44",
   "metadata": {},
   "source": [
    "# 🔹 3. Pandas Basics\n",
    "\n",
    "      Pandas = data manipulation library\n",
    "\n",
    "      Series = 1D data\n",
    "\n",
    "      DataFrame = table data\n",
    "\n",
    "\n"
   ]
  },
  {
   "cell_type": "code",
   "execution_count": 2,
   "id": "c80f005e-549c-4516-9258-5e80aa7afc29",
   "metadata": {},
   "outputs": [
    {
     "name": "stdout",
     "output_type": "stream",
     "text": [
      "0    1\n",
      "1    2\n",
      "2    3\n",
      "dtype: int64\n",
      "   Name  Score\n",
      "0   Ali     85\n",
      "1  Sana     90\n"
     ]
    }
   ],
   "source": [
    "import pandas as pd\n",
    "\n",
    "# Series\n",
    "s = pd.Series([1, 2, 3])\n",
    "print(s)\n",
    "\n",
    "# DataFrame\n",
    "data = {'Name': ['Ali', 'Sana'], 'Score': [85, 90]}\n",
    "df = pd.DataFrame(data)\n",
    "print(df)\n"
   ]
  },
  {
   "cell_type": "code",
   "execution_count": null,
   "id": "d52afdd7-6da3-45a4-b435-73b5cb2ce4b2",
   "metadata": {},
   "outputs": [],
   "source": []
  },
  {
   "cell_type": "markdown",
   "id": "2abda1e0-397b-4d2f-8b83-e2cb0b4f0dd4",
   "metadata": {},
   "source": [
    "# 🧪 Mini Task ::"
   ]
  },
  {
   "cell_type": "code",
   "execution_count": 3,
   "id": "8eb49664-ba30-4bb9-b93a-5e8583a96ef6",
   "metadata": {},
   "outputs": [
    {
     "name": "stdout",
     "output_type": "stream",
     "text": [
      "36\n",
      "Mini task completed!\n",
      "    Fruit  Qty\n",
      "0   Apple    3\n",
      "1  Banana    6\n"
     ]
    }
   ],
   "source": [
    "# 1. Function to square number\n",
    "def square(x):\n",
    "    return x * x\n",
    "print(square(6))  # Output: 36\n",
    "\n",
    "# 2. Write and read file\n",
    "with open(\"task3.txt\", \"w\") as f:\n",
    "    f.write(\"Mini task completed!\")\n",
    "\n",
    "with open(\"task3.txt\", \"r\") as f:\n",
    "    print(f.read())\n",
    "\n",
    "# 3. Create DataFrame\n",
    "df = pd.DataFrame({\n",
    "    'Fruit': ['Apple', 'Banana'],\n",
    "    'Qty': [3, 6]\n",
    "})\n",
    "print(df)\n"
   ]
  },
  {
   "cell_type": "code",
   "execution_count": null,
   "id": "fc2b234c-e71c-4731-bfd5-7ab661ded944",
   "metadata": {},
   "outputs": [],
   "source": []
  }
 ],
 "metadata": {
  "kernelspec": {
   "display_name": "Python 3 (ipykernel)",
   "language": "python",
   "name": "python3"
  },
  "language_info": {
   "codemirror_mode": {
    "name": "ipython",
    "version": 3
   },
   "file_extension": ".py",
   "mimetype": "text/x-python",
   "name": "python",
   "nbconvert_exporter": "python",
   "pygments_lexer": "ipython3",
   "version": "3.12.7"
  }
 },
 "nbformat": 4,
 "nbformat_minor": 5
}
