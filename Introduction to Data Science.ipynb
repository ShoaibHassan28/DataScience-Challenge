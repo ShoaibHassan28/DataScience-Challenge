{
 "cells": [
  {
   "cell_type": "markdown",
   "id": "469ad13c-4d91-4a37-a2c9-195cf251a44c",
   "metadata": {},
   "source": [
    "# 📊 Day 1 - Introduction to Data Science\n",
    "\n",
    "## 💡 What is Data Science?\n",
    "\n",
    "Data Science is the field that uses scientific methods, processes, algorithms, and systems to extract insights and knowledge from structured and unstructured data.  \n",
    "It involves:\n",
    "\n",
    "- Data Collection\n",
    "- Data Cleaning\n",
    "- Data Analysis\n",
    "- Machine Learning\n",
    "- Data Visualization\n"
   ]
  },
  {
   "cell_type": "code",
   "execution_count": 1,
   "id": "6de46ed9-663f-49a7-a884-d13eef38d5e4",
   "metadata": {},
   "outputs": [
    {
     "name": "stdout",
     "output_type": "stream",
     "text": [
      "Hello, Data Science World!\n"
     ]
    }
   ],
   "source": [
    "# Your First Python Program\n",
    "print(\"Hello, Data Science World!\")\n"
   ]
  },
  {
   "cell_type": "code",
   "execution_count": 3,
   "id": "c9352761-b2c3-4f01-88fd-b5e7da76b5e4",
   "metadata": {},
   "outputs": [],
   "source": [
    "# importing libraries \n",
    "import numpy as np\n",
    "import pandas as pd\n",
    "import matplotlib.pyplot as plt\n",
    "import seaborn as sns\n"
   ]
  },
  {
   "cell_type": "code",
   "execution_count": null,
   "id": "001434b4-5ad4-4e2c-b297-e21cf657e033",
   "metadata": {},
   "outputs": [],
   "source": []
  }
 ],
 "metadata": {
  "kernelspec": {
   "display_name": "Python 3 (ipykernel)",
   "language": "python",
   "name": "python3"
  },
  "language_info": {
   "codemirror_mode": {
    "name": "ipython",
    "version": 3
   },
   "file_extension": ".py",
   "mimetype": "text/x-python",
   "name": "python",
   "nbconvert_exporter": "python",
   "pygments_lexer": "ipython3",
   "version": "3.12.7"
  }
 },
 "nbformat": 4,
 "nbformat_minor": 5
}
