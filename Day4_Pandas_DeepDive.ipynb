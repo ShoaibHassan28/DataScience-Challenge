{
 "cells": [
  {
   "cell_type": "markdown",
   "id": "d51b0967-9a59-4334-91ef-acb0450ed584",
   "metadata": {},
   "source": [
    "# ✅ Topics to Cover:\n",
    "Section\tFocus\n",
    "\n",
    "1️⃣ Creating DataFrames\tFrom dict, list, CSV\n",
    "\n",
    "2️⃣ Viewing Data\thead(), tail(), info(), describe()\n",
    "\n",
    "3️⃣ Selecting Data\tdf['col'], df.loc[], df.iloc[]\n",
    "\n",
    "4️⃣ Filtering Data\tBoolean masks, conditions\n",
    "\n"
   ]
  },
  {
   "cell_type": "code",
   "execution_count": null,
   "id": "e0cccda1-a2a0-4518-85c1-168baaceafbe",
   "metadata": {},
   "outputs": [],
   "source": []
  },
  {
   "cell_type": "markdown",
   "id": "c979f409-c108-44de-a20e-7aea883ab067",
   "metadata": {},
   "source": [
    "# 🔹 1. Create DataFrame"
   ]
  },
  {
   "cell_type": "code",
   "execution_count": 1,
   "id": "3378b25a-5767-4269-94a8-7da4b92d265d",
   "metadata": {},
   "outputs": [
    {
     "name": "stdout",
     "output_type": "stream",
     "text": [
      "    Name  Age       City\n",
      "0    Ali   22     Lahore\n",
      "1   Sara   25    Karachi\n",
      "2  Ahmed   21  Islamabad\n"
     ]
    }
   ],
   "source": [
    "import pandas as pd\n",
    "\n",
    "# From dictionary\n",
    "data = {\n",
    "    'Name': ['Ali', 'Sara', 'Ahmed'],\n",
    "    'Age': [22, 25, 21],\n",
    "    'City': ['Lahore', 'Karachi', 'Islamabad']\n",
    "}\n",
    "\n",
    "df = pd.DataFrame(data)\n",
    "print(df)\n"
   ]
  },
  {
   "cell_type": "code",
   "execution_count": null,
   "id": "b45d97ff-7e88-450d-8869-bd864c0306f9",
   "metadata": {},
   "outputs": [],
   "source": []
  },
  {
   "cell_type": "markdown",
   "id": "2505f661-0408-4123-9eed-d879469c628d",
   "metadata": {},
   "source": [
    "# 🔹 2. Basic Exploration\n",
    "\n",
    "  Use  .head() to preview\n",
    "\n",
    "  Use   .info() shows non-null types and memory\n",
    "\n",
    "  Use   .describe() for mean, std, min, etc."
   ]
  },
  {
   "cell_type": "code",
   "execution_count": 2,
   "id": "84135305-65d2-4ed8-a684-79b4bf75bf25",
   "metadata": {},
   "outputs": [
    {
     "name": "stdout",
     "output_type": "stream",
     "text": [
      "    Name  Age       City\n",
      "0    Ali   22     Lahore\n",
      "1   Sara   25    Karachi\n",
      "2  Ahmed   21  Islamabad\n",
      "    Name  Age       City\n",
      "0    Ali   22     Lahore\n",
      "1   Sara   25    Karachi\n",
      "2  Ahmed   21  Islamabad\n",
      "<class 'pandas.core.frame.DataFrame'>\n",
      "RangeIndex: 3 entries, 0 to 2\n",
      "Data columns (total 3 columns):\n",
      " #   Column  Non-Null Count  Dtype \n",
      "---  ------  --------------  ----- \n",
      " 0   Name    3 non-null      object\n",
      " 1   Age     3 non-null      int64 \n",
      " 2   City    3 non-null      object\n",
      "dtypes: int64(1), object(2)\n",
      "memory usage: 204.0+ bytes\n",
      "None\n",
      "             Age\n",
      "count   3.000000\n",
      "mean   22.666667\n",
      "std     2.081666\n",
      "min    21.000000\n",
      "25%    21.500000\n",
      "50%    22.000000\n",
      "75%    23.500000\n",
      "max    25.000000\n"
     ]
    }
   ],
   "source": [
    "print(df.head())       # First 5 rows\n",
    "print(df.tail())       # Last 5 rows\n",
    "print(df.info())       # Summary info\n",
    "print(df.describe())   # Statistical summary (numerical only)\n"
   ]
  },
  {
   "cell_type": "code",
   "execution_count": null,
   "id": "3387d302-8ef8-4c80-b9a8-082045e5e4de",
   "metadata": {},
   "outputs": [],
   "source": []
  },
  {
   "cell_type": "markdown",
   "id": "3157b824-9552-4b78-a611-7d2815758b59",
   "metadata": {},
   "source": [
    "# 🔹 3. Column & Row Selection\n",
    "\n",
    "    Use df['col'] or df[['col1', 'col2']]\n",
    "\n",
    "    .loc[] is label-based, .iloc[] is index-based"
   ]
  },
  {
   "cell_type": "code",
   "execution_count": 4,
   "id": "5a2c1559-6230-4664-8c46-051802d13007",
   "metadata": {},
   "outputs": [
    {
     "name": "stdout",
     "output_type": "stream",
     "text": [
      "0      Ali\n",
      "1     Sara\n",
      "2    Ahmed\n",
      "Name: Name, dtype: object\n",
      "______________\n",
      "    Name  Age\n",
      "0    Ali   22\n",
      "1   Sara   25\n",
      "2  Ahmed   21\n",
      "______________\n",
      "Name       Ali\n",
      "Age         22\n",
      "City    Lahore\n",
      "Name: 0, dtype: object\n",
      "   Name  Age     City\n",
      "0   Ali   22   Lahore\n",
      "1  Sara   25  Karachi\n",
      "______________\n",
      "Name       Ali\n",
      "Age         22\n",
      "City    Lahore\n",
      "Name: 0, dtype: object\n",
      "   Name  Age     City\n",
      "0   Ali   22   Lahore\n",
      "1  Sara   25  Karachi\n"
     ]
    }
   ],
   "source": [
    "# Select one column\n",
    "print(df['Name'])\n",
    "print(\"______________\")\n",
    "# Select multiple columns\n",
    "print(df[['Name', 'Age']])\n",
    "print(\"______________\")\n",
    "\n",
    "# Select rows using loc\n",
    "print(df.loc[0])            # First row\n",
    "print(df.loc[0:1])          # First two rows\n",
    "print(\"______________\")\n",
    "\n",
    "# Select rows using iloc\n",
    "print(df.iloc[0])           # First row\n",
    "print(df.iloc[0:2])         # First two rows\n"
   ]
  },
  {
   "cell_type": "code",
   "execution_count": null,
   "id": "7c6753ab-a8e4-46f1-93ce-dd6d12e7c5fe",
   "metadata": {},
   "outputs": [],
   "source": []
  },
  {
   "cell_type": "markdown",
   "id": "ba3a01a1-25f8-4b82-beaa-1581a313b989",
   "metadata": {},
   "source": [
    "# 🔹 4. Filtering Rows (Conditions)\n",
    "\n",
    "    Use boolean indexing: df[condition]"
   ]
  },
  {
   "cell_type": "code",
   "execution_count": 6,
   "id": "02c2a6c2-98b5-4a59-974b-90126179ac9a",
   "metadata": {},
   "outputs": [
    {
     "name": "stdout",
     "output_type": "stream",
     "text": [
      "   Name  Age     City\n",
      "0   Ali   22   Lahore\n",
      "1  Sara   25  Karachi\n",
      "__________________\n",
      "  Name  Age    City\n",
      "0  Ali   22  Lahore\n"
     ]
    }
   ],
   "source": [
    "# Filter rows where Age > 21\n",
    "print(df[df['Age'] > 21])\n",
    "\n",
    "print(\"__________________\") \n",
    "\n",
    "# Filter where City is Lahore\n",
    "print(df[df['City'] == 'Lahore'])\n"
   ]
  },
  {
   "cell_type": "code",
   "execution_count": null,
   "id": "f148ea3d-1405-4b46-8a1d-58a97059c361",
   "metadata": {},
   "outputs": [],
   "source": []
  },
  {
   "cell_type": "markdown",
   "id": "9a5d861e-9c99-4c66-a6e8-64a68c955324",
   "metadata": {},
   "source": [
    "# 🎯 Mini Task – End of Day 4"
   ]
  },
  {
   "cell_type": "code",
   "execution_count": 9,
   "id": "0d1d42e1-f9a1-4f14-ad25-e500216fec75",
   "metadata": {},
   "outputs": [
    {
     "name": "stdout",
     "output_type": "stream",
     "text": [
      "     Name  Marks       City\n",
      "0  Shoaib     85     Lahore\n",
      "2  Hassan     92  Islamabad\n",
      "- - - - - - - - - - -\n",
      "<class 'pandas.core.frame.DataFrame'>\n",
      "RangeIndex: 3 entries, 0 to 2\n",
      "Data columns (total 3 columns):\n",
      " #   Column  Non-Null Count  Dtype \n",
      "---  ------  --------------  ----- \n",
      " 0   Name    3 non-null      object\n",
      " 1   Marks   3 non-null      int64 \n",
      " 2   City    3 non-null      object\n",
      "dtypes: int64(1), object(2)\n",
      "memory usage: 204.0+ bytes\n",
      "None\n",
      "- - - - - - - - - - -\n",
      "       Marks\n",
      "count    3.0\n",
      "mean    85.0\n",
      "std      7.0\n",
      "min     78.0\n",
      "25%     81.5\n",
      "50%     85.0\n",
      "75%     88.5\n",
      "max     92.0\n"
     ]
    }
   ],
   "source": [
    "# Create DataFrame of students with Name, Marks, City\n",
    "df = pd.DataFrame({\n",
    "    'Name': ['Shoaib', 'Ali', 'Hassan'],\n",
    "    'Marks': [85, 78, 92],\n",
    "    'City': ['Lahore', 'Karachi', 'Islamabad']\n",
    "})\n",
    "\n",
    "# Filter where Marks > 80\n",
    "print(df[df['Marks'] > 80])\n",
    "\n",
    "print(\"- - - - - - - - - - -\")\n",
    "\n",
    "# Show info and describe\n",
    "print(df.info())\n",
    "print(\"- - - - - - - - - - -\")\n",
    "print(df.describe())\n"
   ]
  },
  {
   "cell_type": "code",
   "execution_count": null,
   "id": "629289f8-22e2-40aa-ace2-0c3a64deb948",
   "metadata": {},
   "outputs": [],
   "source": []
  }
 ],
 "metadata": {
  "kernelspec": {
   "display_name": "Python 3 (ipykernel)",
   "language": "python",
   "name": "python3"
  },
  "language_info": {
   "codemirror_mode": {
    "name": "ipython",
    "version": 3
   },
   "file_extension": ".py",
   "mimetype": "text/x-python",
   "name": "python",
   "nbconvert_exporter": "python",
   "pygments_lexer": "ipython3",
   "version": "3.12.7"
  }
 },
 "nbformat": 4,
 "nbformat_minor": 5
}
