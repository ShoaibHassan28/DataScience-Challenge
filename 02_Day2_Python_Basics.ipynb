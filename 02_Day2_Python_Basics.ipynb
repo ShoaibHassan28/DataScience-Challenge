{
 "cells": [
  {
   "cell_type": "markdown",
   "id": "efdf1062-5353-477e-926c-416dc0abadf9",
   "metadata": {},
   "source": [
    "# 📘 Day 2 – Python for Data Science: Basics\n",
    "\n",
    "In this notebook, we explore basic but essential Python concepts for Data Science, including variables, data types, loops, and functions.\n"
   ]
  },
  {
   "cell_type": "code",
   "execution_count": null,
   "id": "63f0bb9c-74fe-4810-b4e1-49ae2104a8d7",
   "metadata": {},
   "outputs": [],
   "source": []
  },
  {
   "cell_type": "markdown",
   "id": "612402fa-7f81-4364-9116-d2b8e05abf04",
   "metadata": {},
   "source": [
    "## 🟩 1_Variables & Data Types\n",
    "### 📌 Variables store data; data types tell Python how to treat the value."
   ]
  },
  {
   "cell_type": "code",
   "execution_count": 1,
   "id": "03a6c395-fcf3-470d-9869-20dc30dff8ff",
   "metadata": {},
   "outputs": [
    {
     "name": "stdout",
     "output_type": "stream",
     "text": [
      "<class 'int'> <class 'str'>\n"
     ]
    }
   ],
   "source": [
    "# Integer\n",
    "x = 5\n",
    "# Float\n",
    "pi = 3.14\n",
    "# String\n",
    "name = \"Shoaib\"\n",
    "# Boolean\n",
    "is_ready = True\n",
    "\n",
    "print(type(x), type(name))\n"
   ]
  },
  {
   "cell_type": "code",
   "execution_count": null,
   "id": "8c703458-2fa8-4740-a0dd-cd763d541ca7",
   "metadata": {},
   "outputs": [],
   "source": []
  },
  {
   "cell_type": "markdown",
   "id": "da230837-37ab-4cb4-ad5e-56d65b8d48c9",
   "metadata": {},
   "source": [
    "## 🟩2_List & Indexing\n",
    "### 📌 Lists hold multiple values. Indexing helps us access specific items."
   ]
  },
  {
   "cell_type": "code",
   "execution_count": 2,
   "id": "07bde242-7b64-40da-a4bd-96857d688daa",
   "metadata": {},
   "outputs": [
    {
     "name": "stdout",
     "output_type": "stream",
     "text": [
      "30\n",
      "50\n"
     ]
    }
   ],
   "source": [
    "numbers = [10, 20, 30, 40, 50]\n",
    "print(numbers[2])     # 30\n",
    "print(numbers[-1])    # 50\n"
   ]
  },
  {
   "cell_type": "code",
   "execution_count": null,
   "id": "82e9d0aa-25a9-4dd4-824f-0ae75f5a2fa2",
   "metadata": {},
   "outputs": [],
   "source": []
  },
  {
   "cell_type": "markdown",
   "id": "074231e2-b089-4bf8-b784-9e0fc709a59e",
   "metadata": {},
   "source": [
    "## 🔹2.1_ Create + Access List through indexing \n",
    "### 📌 Access individual elements using index positions"
   ]
  },
  {
   "cell_type": "code",
   "execution_count": 4,
   "id": "a164e9ea-e1f2-4d87-8c95-b162d60b439f",
   "metadata": {},
   "outputs": [
    {
     "name": "stdout",
     "output_type": "stream",
     "text": [
      "apple\n",
      "grapes\n"
     ]
    }
   ],
   "source": [
    "fruits = [\"apple\", \"banana\", \"mango\", \"grapes\"]\n",
    "print(fruits[0])    # apple\n",
    "print(fruits[-1])   # grapes\n"
   ]
  },
  {
   "cell_type": "code",
   "execution_count": null,
   "id": "6a69677c-bb07-4297-98c4-dc1328c773be",
   "metadata": {},
   "outputs": [],
   "source": []
  },
  {
   "cell_type": "markdown",
   "id": "cd295ba0-943c-474c-9b5d-5d7fcb2f386d",
   "metadata": {},
   "source": [
    "## 🔹 2.2_ List Slicing\n",
    "### 📌 Extracts a portion of the list by index range"
   ]
  },
  {
   "cell_type": "code",
   "execution_count": 5,
   "id": "1ed0f88a-e8a8-48aa-bb61-7616d7af6f6c",
   "metadata": {},
   "outputs": [
    {
     "name": "stdout",
     "output_type": "stream",
     "text": [
      "['banana', 'mango']\n"
     ]
    }
   ],
   "source": [
    "print(fruits[1:3])  # ['banana', 'mango']\n"
   ]
  },
  {
   "cell_type": "code",
   "execution_count": null,
   "id": "dfc66301-869a-471b-9718-fe8261b9219b",
   "metadata": {},
   "outputs": [],
   "source": []
  },
  {
   "cell_type": "markdown",
   "id": "bbe62f88-d7a0-41c9-8b93-783421f5c3d9",
   "metadata": {},
   "source": [
    "## 🔹 2.3_List Append + Insert  + Remove \n",
    "####  📌Adds a new item to the end of the list + Inserts an item at a specific index + Removes a specific item by value"
   ]
  },
  {
   "cell_type": "code",
   "execution_count": 6,
   "id": "0a87f4d9-b1f3-4f4e-963d-78383213b913",
   "metadata": {},
   "outputs": [
    {
     "name": "stdout",
     "output_type": "stream",
     "text": [
      "['apple', 'kiwi', 'mango', 'grapes', 'orange']\n"
     ]
    }
   ],
   "source": [
    "fruits.append(\"orange\")       # add at end\n",
    "fruits.remove(\"banana\")       # remove value\n",
    "fruits.insert(1, \"kiwi\")      # insert at index 1\n",
    "print(fruits)\n"
   ]
  },
  {
   "cell_type": "code",
   "execution_count": null,
   "id": "9360f8af-fffd-4daf-86c4-865d5fec7770",
   "metadata": {},
   "outputs": [],
   "source": []
  },
  {
   "cell_type": "markdown",
   "id": "26ca9ada-da50-42e8-8a24-a01ed2205839",
   "metadata": {},
   "source": [
    "## 🔹 2.4_Check Membership + Length"
   ]
  },
  {
   "cell_type": "code",
   "execution_count": 7,
   "id": "39cacae5-3020-40b1-995e-e6b29295b132",
   "metadata": {},
   "outputs": [
    {
     "name": "stdout",
     "output_type": "stream",
     "text": [
      "Apple found!\n",
      "5\n"
     ]
    }
   ],
   "source": [
    "if \"apple\" in fruits:\n",
    "    print(\"Apple found!\")\n",
    "\n",
    "print(len(fruits))\n"
   ]
  },
  {
   "cell_type": "code",
   "execution_count": null,
   "id": "52d4d1e7-4fc5-4dcb-a87a-d4bc3f2f5568",
   "metadata": {},
   "outputs": [],
   "source": []
  },
  {
   "cell_type": "markdown",
   "id": "487b6df3-9c7c-47f3-b2f2-9440dcd88d5c",
   "metadata": {},
   "source": [
    "## 🔹 5. Loop Through List"
   ]
  },
  {
   "cell_type": "code",
   "execution_count": 8,
   "id": "7bdce772-c58d-4f08-9ac7-825fd9ebfbae",
   "metadata": {},
   "outputs": [
    {
     "name": "stdout",
     "output_type": "stream",
     "text": [
      "I like apple\n",
      "I like kiwi\n",
      "I like mango\n",
      "I like grapes\n",
      "I like orange\n"
     ]
    }
   ],
   "source": [
    "for fruit in fruits:\n",
    "    print(\"I like\", fruit)\n"
   ]
  },
  {
   "cell_type": "code",
   "execution_count": null,
   "id": "e892ffa1-e45c-4662-b3c3-eeb089873ed6",
   "metadata": {},
   "outputs": [],
   "source": []
  },
  {
   "cell_type": "markdown",
   "id": "515bfad0-979e-4955-bada-b4871ddc5cde",
   "metadata": {},
   "source": [
    "## 🟩3_Conditional Statements\n",
    "### 📌 Conditions let the program make decisions."
   ]
  },
  {
   "cell_type": "code",
   "execution_count": 3,
   "id": "5019398e-ce2c-4955-b1e2-5349289780c9",
   "metadata": {},
   "outputs": [
    {
     "name": "stdout",
     "output_type": "stream",
     "text": [
      "Adult\n"
     ]
    }
   ],
   "source": [
    "age = 18\n",
    "if age >= 18:\n",
    "    print(\"Adult\")\n",
    "else:\n",
    "    print(\"Minor\")\n"
   ]
  },
  {
   "cell_type": "code",
   "execution_count": null,
   "id": "5bc75fb9-8f37-4513-a19b-306df43f031e",
   "metadata": {},
   "outputs": [],
   "source": []
  },
  {
   "cell_type": "markdown",
   "id": "a014338c-84ed-4609-82f1-f2356292fca0",
   "metadata": {},
   "source": [
    "## 🟩4_Loops (For & While)\n",
    "###  For Loop:📌 \n",
    "         Repeats a block of code for each item in a range or list\n",
    "###  While Loop:📌\n",
    "         Repeats a block of code as long as a condition is true"
   ]
  },
  {
   "cell_type": "code",
   "execution_count": 9,
   "id": "b69ba1dd-a694-4bb9-b806-89255bd75648",
   "metadata": {},
   "outputs": [
    {
     "name": "stdout",
     "output_type": "stream",
     "text": [
      "Loop: 0\n",
      "Loop: 1\n",
      "Loop: 2\n",
      "While: 1\n",
      "While: 2\n",
      "While: 3\n"
     ]
    }
   ],
   "source": [
    "# For Loop\n",
    "for i in range(3):\n",
    "    print(\"Loop:\", i)\n",
    "\n",
    "# While Loop\n",
    "n = 1\n",
    "while n <= 3:\n",
    "    print(\"While:\", n)\n",
    "    n += 1\n"
   ]
  },
  {
   "cell_type": "code",
   "execution_count": null,
   "id": "f776761b-946c-4a8d-a885-db8051c50bef",
   "metadata": {},
   "outputs": [],
   "source": []
  },
  {
   "cell_type": "markdown",
   "id": "4839ad34-f327-40bb-8ef3-b763ba3c16a9",
   "metadata": {},
   "source": [
    "# 🧪  Mini Task: List Sum"
   ]
  },
  {
   "cell_type": "code",
   "execution_count": 10,
   "id": "2a9db955-28e8-4dc4-b420-b01cab876d99",
   "metadata": {},
   "outputs": [
    {
     "name": "stdout",
     "output_type": "stream",
     "text": [
      "Sum: 15\n"
     ]
    }
   ],
   "source": [
    "# Task: Find the sum of numbers in the list\n",
    "nums = [1, 2, 3, 4, 5]\n",
    "total = 0\n",
    "for num in nums:\n",
    "    total += num\n",
    "print(\"Sum:\", total)\n"
   ]
  },
  {
   "cell_type": "code",
   "execution_count": null,
   "id": "c39d8471-4ec5-46e6-859c-8cce06d987d4",
   "metadata": {},
   "outputs": [],
   "source": []
  },
  {
   "cell_type": "markdown",
   "id": "2bc218b3-57a3-44be-ab51-dbc799643fa5",
   "metadata": {},
   "source": [
    "---\n",
    "\n",
    "## ✅ Summary – What I Learned Today\n",
    "\n",
    "- Practiced core Python topics for Data Science:\n",
    "  - Variables and data types\n",
    "  - List operations (indexing, slicing, updating)\n",
    "  - Conditional logic (if-else)\n",
    "  - Loops (for and while)\n",
    "- Completed a mini-task using loop and logic\n",
    "\n",
    "> 🎯 Ready to explore **functions and file handling** in Day 3!\n",
    "\n",
    "---\n"
   ]
  },
  {
   "cell_type": "code",
   "execution_count": null,
   "id": "1f357b8c-064e-40fd-9a3d-d5be6b0054d6",
   "metadata": {},
   "outputs": [],
   "source": []
  }
 ],
 "metadata": {
  "kernelspec": {
   "display_name": "Python 3 (ipykernel)",
   "language": "python",
   "name": "python3"
  },
  "language_info": {
   "codemirror_mode": {
    "name": "ipython",
    "version": 3
   },
   "file_extension": ".py",
   "mimetype": "text/x-python",
   "name": "python",
   "nbconvert_exporter": "python",
   "pygments_lexer": "ipython3",
   "version": "3.12.7"
  }
 },
 "nbformat": 4,
 "nbformat_minor": 5
}
